{
 "cells": [
  {
   "cell_type": "markdown",
   "metadata": {},
   "source": [
    "# Basic Usage\n",
    "\n",
    "You can invoke `main.py` as such\n",
    "`python main.py -q {query} -i {input xlsx file} -o {output xlsx file}`\n",
    "\n",
    "Or you can use programmatically as below\n",
    "\n",
    "Make sure `OPENAI_API_KEY` is set in your environment."
   ]
  },
  {
   "cell_type": "code",
   "execution_count": 2,
   "metadata": {},
   "outputs": [],
   "source": [
    "from highlighter import FinancialDataHighlighter\n",
    "\n",
    "input_book = '../data/sample_input.xlsx'\n",
    "output_book = '../data/sample_input_revenue.xlsx'\n",
    "query = \"Revenue\"\n",
    "\n",
    "analyst = FinancialDataHighlighter()\n",
    "analyst.analyze_workbook(query, input_book, output_book)"
   ]
  },
  {
   "cell_type": "markdown",
   "metadata": {},
   "source": [
    "# Evaluation\n",
    "\n",
    "Below is the scaffolding for an evaluation system that would be used to lead further development of the system"
   ]
  },
  {
   "cell_type": "code",
   "execution_count": 10,
   "metadata": {},
   "outputs": [
    {
     "name": "stdout",
     "output_type": "stream",
     "text": [
      "Eval example: (correct labels, false positives, false negatives)\n",
      "{'../data/sample_input.xlsx/Revenue': (2, 7, 1)}\n"
     ]
    }
   ],
   "source": [
    "# For eval:\n",
    "from dataclasses import dataclass\n",
    "import openpyxl\n",
    "\n",
    "@dataclass\n",
    "class EvalExample:\n",
    "    query: str # e.g. 'Revenue'\n",
    "    workbook_file: str # e.g. '../data/sample_input.xlsx'\n",
    "    golden_label_cells: dict[str, list[tuple[int, int]]] # Cells that *should* get highlighted in each worksheet {\"NOW-US, IS FY'23\": [(14,2), (14,3), (14,4)]} \n",
    "\n",
    "examples = [\n",
    "    EvalExample('Revenue', '../data/sample_input.xlsx', {\n",
    "        \"NOW-US, IS FY'23\": [(14,2), (14,3), (14,4)]\n",
    "    })\n",
    "]\n",
    "\n",
    "analyst = FinancialDataHighlighter()\n",
    "\n",
    "eval_results = {}\n",
    "for example in examples:\n",
    "    wb = openpyxl.load_workbook(example.workbook_file)\n",
    "    predicted_cells = analyst._get_worksheet_cells(example.query, wb)\n",
    "    true_positives, false_positives, false_negatives = 0, 0, 0\n",
    "\n",
    "    for sheetname in wb.sheetnames:\n",
    "        predicted = predicted_cells.get(sheetname, [])\n",
    "        true_positives += len([val for val in predicted if val in example.golden_label_cells.get(sheetname, [])])\n",
    "        false_positives += len([val for val in predicted if val not in example.golden_label_cells.get(sheetname, [])])\n",
    "        false_negatives += len([val for val in example.golden_label_cells.get(sheetname, []) if val not in predicted])\n",
    "\n",
    "    eval_results[f\"{example.workbook_file}/{example.query}\"] = (true_positives, false_positives, false_negatives)\n",
    "\n",
    "print(\"Eval example: (correct labels, false positives, false negatives)\")\n",
    "print(eval_results)"
   ]
  },
  {
   "cell_type": "markdown",
   "metadata": {},
   "source": [
    "# Future ideas\n",
    "* add in context examples\n",
    "* Fix observed issues:\n",
    "    * column index consistency seems to be off, examples might help, different labeling strategies might help\n",
    "* Test with different financial statement document formats beyond the example data\n",
    "* Maybe do a second pass asking the LLM if the extracted cells are actually relevant\n",
    "* If first pass does not highlight any data, do a 2 pass approach where you generate potential synonyms or relevant data types on the first pass and try to highlight those. (depends on precision/recall requirements of the product in question) \n",
    "* try a multi model approach, sending easier queries to gpt-3.5 (depends if model call optimizations are needed in a production scenario)"
   ]
  }
 ],
 "metadata": {
  "kernelspec": {
   "display_name": "sheetseeker",
   "language": "python",
   "name": "python3"
  },
  "language_info": {
   "codemirror_mode": {
    "name": "ipython",
    "version": 3
   },
   "file_extension": ".py",
   "mimetype": "text/x-python",
   "name": "python",
   "nbconvert_exporter": "python",
   "pygments_lexer": "ipython3",
   "version": "3.12.0b2"
  }
 },
 "nbformat": 4,
 "nbformat_minor": 2
}
